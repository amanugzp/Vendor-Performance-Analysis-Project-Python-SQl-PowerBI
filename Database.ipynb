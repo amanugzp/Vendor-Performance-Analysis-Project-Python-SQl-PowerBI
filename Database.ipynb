{
 "cells": [
  {
   "cell_type": "code",
   "execution_count": 5,
   "id": "499bfedf",
   "metadata": {},
   "outputs": [],
   "source": [
    "import pandas as pd\n",
    "import numpy as np\n",
    "import matplotlib.pyplot as plt\n",
    "import seaborn as sns\n",
    "import os\n",
    "\n",
    "from sqlalchemy import create_engine\n",
    "\n",
    "import warnings\n",
    "warnings.filterwarnings(\"ignore\")"
   ]
  },
  {
   "cell_type": "code",
   "execution_count": 6,
   "id": "2614df3c",
   "metadata": {},
   "outputs": [],
   "source": [
    "engine = create_engine('sqlite:///inventory.db')"
   ]
  },
  {
   "cell_type": "code",
   "execution_count": 10,
   "id": "42026583",
   "metadata": {},
   "outputs": [
    {
     "name": "stdout",
     "output_type": "stream",
     "text": [
      "(206529, 9)\n",
      "(224489, 9)\n",
      "(2372474, 16)\n",
      "(12261, 9)\n",
      "(12825363, 14)\n",
      "(5543, 10)\n"
     ]
    }
   ],
   "source": [
    "for file in os.listdir('C:\\Data_Science\\Vendor Performance Analysis Project (Python+SQl+PowerBI\\data'):\n",
    "    if '.csv' in file:\n",
    "        df = pd.read_csv('C:\\Data_Science\\Vendor Performance Analysis Project (Python+SQl+PowerBI\\data/'+file)\n",
    "        print(df.shape)\n",
    "        ingest_db(df,file[:-4],engine)\n"
   ]
  },
  {
   "cell_type": "code",
   "execution_count": 9,
   "id": "93b33565",
   "metadata": {},
   "outputs": [],
   "source": [
    "def ingest_db(df,table_name,engine):\n",
    "    \"\"\"This function will ingest the dataframe into database table\"\"\"\n",
    "    df.to_sql(table_name,con = engine,if_exists='replace',index= False)"
   ]
  },
  {
   "cell_type": "code",
   "execution_count": null,
   "id": "c9444e6f",
   "metadata": {},
   "outputs": [],
   "source": []
  }
 ],
 "metadata": {
  "kernelspec": {
   "display_name": "base",
   "language": "python",
   "name": "python3"
  },
  "language_info": {
   "codemirror_mode": {
    "name": "ipython",
    "version": 3
   },
   "file_extension": ".py",
   "mimetype": "text/x-python",
   "name": "python",
   "nbconvert_exporter": "python",
   "pygments_lexer": "ipython3",
   "version": "3.12.4"
  }
 },
 "nbformat": 4,
 "nbformat_minor": 5
}
